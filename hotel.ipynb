# Importing the libraries

import requests as r
import csv
from bs4 import BeautifulSoup
import re 
